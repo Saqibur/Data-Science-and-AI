{
 "cells": [
  {
   "cell_type": "markdown",
   "metadata": {},
   "source": [
    "NumPy's main object is the homogenous (all of the same type) multidimensional array.\n",
    "That is, it is a table of elements, usually numbers, all of the same type, indexed by a tuple of non-negative integes. In NumPy, dimensions are called axes.\n",
    "\n",
    "NumPy’s array class is called <code>ndarray</code>. It is also known by the alias array. Note that <code>numpy.array</code> is not the same as the Standard Python Library class array.array, which only handles one-dimensional arrays and offers less functionality."
   ]
  },
  {
   "cell_type": "markdown",
   "metadata": {},
   "source": [
    "# Introduction"
   ]
  },
  {
   "cell_type": "code",
   "execution_count": 13,
   "metadata": {},
   "outputs": [
    {
     "name": "stdout",
     "output_type": "stream",
     "text": [
      "<class 'list'>\n",
      "[[0, 1, 2], [3, 4, 5], [6, 7, 8]]\n",
      "<class 'numpy.ndarray'>\n",
      "[ 0  1  2  3  4  5  6  7  8  9 10 11 12 13 14]\n"
     ]
    }
   ],
   "source": [
    "import numpy as np\n",
    "\n",
    "test_array = [[0, 1, 2], [3, 4, 5], [6, 7, 8]]\n",
    "\n",
    "# arange not to be confused with \"Arrange\"\n",
    "numpy_array = np.arange(15)\n",
    "\n",
    "print(type(test_array)) # test_array is a list\n",
    "print(test_array)\n",
    "\n",
    "print(type(numpy_array))\n",
    "print(numpy_array)\n"
   ]
  }
 ],
 "metadata": {
  "kernelspec": {
   "display_name": "Python 3",
   "language": "python",
   "name": "python3"
  },
  "language_info": {
   "codemirror_mode": {
    "name": "ipython",
    "version": 3
   },
   "file_extension": ".py",
   "mimetype": "text/x-python",
   "name": "python",
   "nbconvert_exporter": "python",
   "pygments_lexer": "ipython3",
   "version": "3.7.3"
  }
 },
 "nbformat": 4,
 "nbformat_minor": 2
}
