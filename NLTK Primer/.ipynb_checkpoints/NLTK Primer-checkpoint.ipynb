{
 "cells": [
  {
   "cell_type": "code",
   "execution_count": 54,
   "metadata": {},
   "outputs": [],
   "source": [
    "from __future__ import division\n",
    "import nltk, re, pprint"
   ]
  },
  {
   "cell_type": "code",
   "execution_count": 55,
   "metadata": {},
   "outputs": [],
   "source": [
    "raw_chat_file_obj = open(\"DotaChat.txt\", 'r', encoding='utf-8')"
   ]
  },
  {
   "cell_type": "code",
   "execution_count": 56,
   "metadata": {},
   "outputs": [],
   "source": [
    "raw_chat_text = raw_chat_file_obj.readlines()"
   ]
  },
  {
   "cell_type": "code",
   "execution_count": 72,
   "metadata": {},
   "outputs": [
    {
     "data": {
      "text/plain": [
       "list"
      ]
     },
     "execution_count": 72,
     "metadata": {},
     "output_type": "execute_result"
    }
   ],
   "source": [
    "type(raw_chat_text)"
   ]
  },
  {
   "cell_type": "code",
   "execution_count": 75,
   "metadata": {},
   "outputs": [],
   "source": [
    "chat_str = \"\"\n",
    "\n",
    "for line in raw_chat_text:\n",
    "    chat_str += line.replace(\"\\n\", \" \")"
   ]
  },
  {
   "cell_type": "code",
   "execution_count": 76,
   "metadata": {},
   "outputs": [
    {
     "data": {
      "text/plain": [
       "924958"
      ]
     },
     "execution_count": 76,
     "metadata": {},
     "output_type": "execute_result"
    }
   ],
   "source": [
    "len(chat_str)"
   ]
  },
  {
   "cell_type": "code",
   "execution_count": 78,
   "metadata": {},
   "outputs": [
    {
     "data": {
      "text/plain": [
       "str"
      ]
     },
     "execution_count": 78,
     "metadata": {},
     "output_type": "execute_result"
    }
   ],
   "source": [
    "type(chat_str)"
   ]
  },
  {
   "cell_type": "code",
   "execution_count": 79,
   "metadata": {},
   "outputs": [],
   "source": [
    "tokens = nltk.word_tokenize(chat_str)"
   ]
  },
  {
   "cell_type": "code",
   "execution_count": 80,
   "metadata": {},
   "outputs": [
    {
     "data": {
      "text/plain": [
       "[':', ',', '?', 'Ayyyy', '<', 'Media', 'omitted', '>', '<', 'Media']"
      ]
     },
     "execution_count": 80,
     "metadata": {},
     "output_type": "execute_result"
    }
   ],
   "source": [
    "tokens[:10]"
   ]
  },
  {
   "cell_type": "code",
   "execution_count": 81,
   "metadata": {},
   "outputs": [],
   "source": [
    "nltk_text = nltk.Text(tokens)"
   ]
  },
  {
   "cell_type": "code",
   "execution_count": 82,
   "metadata": {},
   "outputs": [
    {
     "data": {
      "text/plain": [
       "nltk.text.Text"
      ]
     },
     "execution_count": 82,
     "metadata": {},
     "output_type": "execute_result"
    }
   ],
   "source": [
    "type(nltk_text)"
   ]
  },
  {
   "cell_type": "code",
   "execution_count": 92,
   "metadata": {
    "scrolled": true
   },
   "outputs": [
    {
     "data": {
      "text/plain": [
       "['er',\n",
       " 'ki',\n",
       " 'somporko',\n",
       " 'which',\n",
       " 'one',\n",
       " '?',\n",
       " 'She',\n",
       " 'likes',\n",
       " 'sweets',\n",
       " 'This',\n",
       " 'message',\n",
       " 'was',\n",
       " 'deleted',\n",
       " '🌚',\n",
       " '<',\n",
       " 'Media',\n",
       " 'omitted',\n",
       " '>',\n",
       " 'Important',\n",
       " 'thingslike']"
      ]
     },
     "execution_count": 92,
     "metadata": {},
     "output_type": "execute_result"
    }
   ],
   "source": [
    "nltk_text[1020:1040]"
   ]
  },
  {
   "cell_type": "code",
   "execution_count": 95,
   "metadata": {},
   "outputs": [
    {
     "data": {
      "text/plain": [
       "\"Media omitted; n't even; feel like; looks like; Rubab Hossain; shobai kutta; modh gaja; talking abt; gaming laptop; second hand; Ami asi; hoye gese; sadia Islam; look like; mone hoi; Kuttar baccha; Okay fine; Mustayeen Nasrullah; makes sense; next sem\""
      ]
     },
     "execution_count": 95,
     "metadata": {},
     "output_type": "execute_result"
    }
   ],
   "source": [
    "'; '.join(nltk_text.collocation_list()) # need this, otherwise error, too many values to unpack."
   ]
  },
  {
   "cell_type": "code",
   "execution_count": 97,
   "metadata": {},
   "outputs": [
    {
     "name": "stdout",
     "output_type": "stream",
     "text": [
      "Displaying 25 of 226 matches:\n",
      "p '' Nd u thought he 's cancerous in Dota only what ? Nabil lookin fresh I mis\n",
      "s friends with the dude who made the dota bot elon musk banaise na ? 🌚 < Media\n",
      "ally part of the team And was in the dota video His name is Jakub pachkoli Pac\n",
      "edia omitted > akib do you still doa dota Yesbut 1 or 2 games a week They are \n",
      " tag dite thak Lul Do you still play Dota ? 🤔 nah laptop gese I play pokemon r\n",
      "use korsi AKIB ZA IS FUCKING PLAYING DOTA Part B teh bhul ta use kore bhul cor\n",
      "ed her jeez man You cunt dude u play dota ? 🤔 Pro khelos ? haa I downloaded pr\n",
      "y too many hours 8s Iss u still play dota kare ki kos Mannnahh how do yall hav\n",
      " back to asking rubab if he wants to dota See he said having fun and he replie\n",
      "Any of you Cs nerds know how to make dota ? faria er filters dekhle I laugh at\n",
      " 's prolly gon na do that It 's like Dota This message was deleted Nvm I wo n'\n",
      "et into my logics Yeah man . Also no dota on saturday ? nah Isss U fucca you l\n",
      "u te Tui kiso korsos Ahahaha sinthia dota kheltase Tf and then you see akib He\n",
      "onal when he does n't get invited in dota now sinthia doesnt like akib Ki kors\n",
      "nevy Being cancer is fun Everyone in Dota does n't like you Slayer does he inv\n",
      " potato Dker Carry gyro Akib want to dota ? Blaming sharaf now i am changed ma\n",
      "utual friends Online or irl Hate him Dota te Amar joto friends ase Who know Sh\n",
      "ncial sense to switch it of bba Cmon Dota ? I have n't played Dota for 2 days \n",
      "of bba Cmon Dota ? I have n't played Dota for 2 days Compared to past 2 weeks \n",
      " . nabil ki retarded U r rifht about Dota tocix Literally Top 16 teams in the \n",
      " pola Y'all missing some of the best dota ever Porsi Dude she literally treats\n",
      " is ogra shit Guys Ajke raate e ekta dota hobe ? no No https : //amarbazaar24.\n",
      " ? Or nuh YEET I wish i cud tho Ajke dota hobe naki bros ? < Media omitted > <\n",
      "shit as this I tell u I want to play dota I have finals on monday Quiz on mond\n",
      "day Quiz on sunday But I wan na play dota rn if 5 taile asi i will skip party \n"
     ]
    }
   ],
   "source": [
    "nltk_text.concordance('dota')"
   ]
  },
  {
   "cell_type": "code",
   "execution_count": null,
   "metadata": {},
   "outputs": [],
   "source": []
  }
 ],
 "metadata": {
  "kernelspec": {
   "display_name": "Python 3",
   "language": "python",
   "name": "python3"
  },
  "language_info": {
   "codemirror_mode": {
    "name": "ipython",
    "version": 3
   },
   "file_extension": ".py",
   "mimetype": "text/x-python",
   "name": "python",
   "nbconvert_exporter": "python",
   "pygments_lexer": "ipython3",
   "version": "3.7.3"
  }
 },
 "nbformat": 4,
 "nbformat_minor": 2
}
